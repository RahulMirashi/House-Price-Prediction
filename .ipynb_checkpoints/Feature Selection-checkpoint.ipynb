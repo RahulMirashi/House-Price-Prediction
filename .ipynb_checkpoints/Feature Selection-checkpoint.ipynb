{
 "cells": [
  {
   "cell_type": "markdown",
   "id": "05cbce89",
   "metadata": {},
   "source": [
    "## Feature Selection Advanced House Price Prediction"
   ]
  },
  {
   "cell_type": "markdown",
   "id": "90277830",
   "metadata": {},
   "source": [
    "The main aim of this project is to predict the house price based on various features which we will discuss as we go ahead"
   ]
  },
  {
   "cell_type": "code",
   "execution_count": 1,
   "id": "bf697d1e",
   "metadata": {},
   "outputs": [],
   "source": [
    "import pandas as pd\n",
    "import numpy as np\n",
    "import matplotlib.pyplot as plt\n",
    "%matplotlib inline\n",
    "\n",
    "## for feature selection\n",
    "\n",
    "from sklearn.linear_model import Lasso\n",
    "from sklearn.feature_selection import SelectFromModel\n",
    "\n",
    "#to visualize all the columns in the dataframe\n",
    "pd.pandas.set_option('display.max_columns',None)"
   ]
  },
  {
   "cell_type": "code",
   "execution_count": 2,
   "id": "91f3534f",
   "metadata": {},
   "outputs": [],
   "source": [
    "dataset = pd.read_csv('X_train.csv')"
   ]
  },
  {
   "cell_type": "code",
   "execution_count": null,
   "id": "fa040b74",
   "metadata": {},
   "outputs": [],
   "source": []
  },
  {
   "cell_type": "code",
   "execution_count": null,
   "id": "713e81e9",
   "metadata": {},
   "outputs": [],
   "source": []
  },
  {
   "cell_type": "code",
   "execution_count": null,
   "id": "6c565c87",
   "metadata": {},
   "outputs": [],
   "source": []
  },
  {
   "cell_type": "code",
   "execution_count": null,
   "id": "c5448411",
   "metadata": {},
   "outputs": [],
   "source": []
  }
 ],
 "metadata": {
  "kernelspec": {
   "display_name": "Python 3 (ipykernel)",
   "language": "python",
   "name": "python3"
  },
  "language_info": {
   "codemirror_mode": {
    "name": "ipython",
    "version": 3
   },
   "file_extension": ".py",
   "mimetype": "text/x-python",
   "name": "python",
   "nbconvert_exporter": "python",
   "pygments_lexer": "ipython3",
   "version": "3.11.2"
  }
 },
 "nbformat": 4,
 "nbformat_minor": 5
}
